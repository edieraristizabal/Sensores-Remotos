{
 "cells": [
  {
   "cell_type": "code",
   "execution_count": null,
   "metadata": {},
   "outputs": [],
   "source": [
    "!mkdir aoi\n",
    "!wget  https://raw.githubusercontent.com/ashokdahal/bigdata-geoai/refs/heads/main/bigdata-excercises/aoi/aoi.geojson  -O aoi/aoi.geojson"
   ]
  },
  {
   "cell_type": "markdown",
   "metadata": {},
   "source": [
    "## Import the Required Libraries"
   ]
  },
  {
   "cell_type": "code",
   "execution_count": 1,
   "metadata": {},
   "outputs": [],
   "source": [
    "import openeo\n",
    "import rasterio\n",
    "from rasterio.plot import show\n",
    "import matplotlib.pyplot as plt\n",
    "import matplotlib.colors\n",
    "import matplotlib.patches as mpatches\n",
    "import geopandas as gpd\n",
    "import json\n",
    "import folium\n",
    "import scipy\n",
    "import numpy as np"
   ]
  },
  {
   "cell_type": "markdown",
   "metadata": {},
   "source": [
    "## Connect to the Cloud Server"
   ]
  },
  {
   "cell_type": "code",
   "execution_count": 2,
   "metadata": {},
   "outputs": [
    {
     "name": "stdout",
     "output_type": "stream",
     "text": [
      "Authenticated using refresh token.\n"
     ]
    }
   ],
   "source": [
    "connection = openeo.connect(\"openeo.dataspace.copernicus.eu\").authenticate_oidc()"
   ]
  },
  {
   "cell_type": "markdown",
   "metadata": {},
   "source": [
    "## Define Area of Interest"
   ]
  },
  {
   "cell_type": "code",
   "execution_count": 3,
   "metadata": {},
   "outputs": [],
   "source": [
    "def read_json(filename: str) -> dict:\n",
    "    with open(filename) as input:\n",
    "        field = json.load(input)\n",
    "    return field\n",
    "\n",
    "pre_date = [\"2018-03-03\", \"2018-09-03\"]\n",
    "post_date = [\"2018-09-09\", \"2018-12-09\"]\n",
    "aoi = read_json(\"aoi/aoi.geojson\")"
   ]
  },
  {
   "cell_type": "code",
   "execution_count": 4,
   "metadata": {},
   "outputs": [
    {
     "data": {
      "text/html": [
       "<div style=\"width:100%;\"><div style=\"position:relative;width:100%;height:0;padding-bottom:60%;\"><span style=\"color:#565656\">Make this Notebook Trusted to load map: File -> Trust Notebook</span><iframe srcdoc=\"&lt;!DOCTYPE html&gt;\n",
       "&lt;html&gt;\n",
       "&lt;head&gt;\n",
       "    \n",
       "    &lt;meta http-equiv=&quot;content-type&quot; content=&quot;text/html; charset=UTF-8&quot; /&gt;\n",
       "    \n",
       "        &lt;script&gt;\n",
       "            L_NO_TOUCH = false;\n",
       "            L_DISABLE_3D = false;\n",
       "        &lt;/script&gt;\n",
       "    \n",
       "    &lt;style&gt;html, body {width: 100%;height: 100%;margin: 0;padding: 0;}&lt;/style&gt;\n",
       "    &lt;style&gt;#map {position:absolute;top:0;bottom:0;right:0;left:0;}&lt;/style&gt;\n",
       "    &lt;script src=&quot;https://cdn.jsdelivr.net/npm/leaflet@1.9.3/dist/leaflet.js&quot;&gt;&lt;/script&gt;\n",
       "    &lt;script src=&quot;https://code.jquery.com/jquery-3.7.1.min.js&quot;&gt;&lt;/script&gt;\n",
       "    &lt;script src=&quot;https://cdn.jsdelivr.net/npm/bootstrap@5.2.2/dist/js/bootstrap.bundle.min.js&quot;&gt;&lt;/script&gt;\n",
       "    &lt;script src=&quot;https://cdnjs.cloudflare.com/ajax/libs/Leaflet.awesome-markers/2.0.2/leaflet.awesome-markers.js&quot;&gt;&lt;/script&gt;\n",
       "    &lt;link rel=&quot;stylesheet&quot; href=&quot;https://cdn.jsdelivr.net/npm/leaflet@1.9.3/dist/leaflet.css&quot;/&gt;\n",
       "    &lt;link rel=&quot;stylesheet&quot; href=&quot;https://cdn.jsdelivr.net/npm/bootstrap@5.2.2/dist/css/bootstrap.min.css&quot;/&gt;\n",
       "    &lt;link rel=&quot;stylesheet&quot; href=&quot;https://netdna.bootstrapcdn.com/bootstrap/3.0.0/css/bootstrap-glyphicons.css&quot;/&gt;\n",
       "    &lt;link rel=&quot;stylesheet&quot; href=&quot;https://cdn.jsdelivr.net/npm/@fortawesome/fontawesome-free@6.2.0/css/all.min.css&quot;/&gt;\n",
       "    &lt;link rel=&quot;stylesheet&quot; href=&quot;https://cdnjs.cloudflare.com/ajax/libs/Leaflet.awesome-markers/2.0.2/leaflet.awesome-markers.css&quot;/&gt;\n",
       "    &lt;link rel=&quot;stylesheet&quot; href=&quot;https://cdn.jsdelivr.net/gh/python-visualization/folium/folium/templates/leaflet.awesome.rotate.min.css&quot;/&gt;\n",
       "    \n",
       "            &lt;meta name=&quot;viewport&quot; content=&quot;width=device-width,\n",
       "                initial-scale=1.0, maximum-scale=1.0, user-scalable=no&quot; /&gt;\n",
       "            &lt;style&gt;\n",
       "                #map_d71da6f2ef2a0a5e4a76aa28e9e129bb {\n",
       "                    position: relative;\n",
       "                    width: 100.0%;\n",
       "                    height: 100.0%;\n",
       "                    left: 0.0%;\n",
       "                    top: 0.0%;\n",
       "                }\n",
       "                .leaflet-container { font-size: 1rem; }\n",
       "            &lt;/style&gt;\n",
       "        \n",
       "&lt;/head&gt;\n",
       "&lt;body&gt;\n",
       "    \n",
       "    \n",
       "            &lt;div class=&quot;folium-map&quot; id=&quot;map_d71da6f2ef2a0a5e4a76aa28e9e129bb&quot; &gt;&lt;/div&gt;\n",
       "        \n",
       "&lt;/body&gt;\n",
       "&lt;script&gt;\n",
       "    \n",
       "    \n",
       "            var map_d71da6f2ef2a0a5e4a76aa28e9e129bb = L.map(\n",
       "                &quot;map_d71da6f2ef2a0a5e4a76aa28e9e129bb&quot;,\n",
       "                {\n",
       "                    center: [42.75, 141.96],\n",
       "                    crs: L.CRS.EPSG3857,\n",
       "                    zoom: 11,\n",
       "                    zoomControl: true,\n",
       "                    preferCanvas: false,\n",
       "                }\n",
       "            );\n",
       "\n",
       "            \n",
       "\n",
       "        \n",
       "    \n",
       "            var tile_layer_16126f28576801d59ba328362d40c275 = L.tileLayer(\n",
       "                &quot;https://tile.openstreetmap.org/{z}/{x}/{y}.png&quot;,\n",
       "                {&quot;attribution&quot;: &quot;\\u0026copy; \\u003ca href=\\&quot;https://www.openstreetmap.org/copyright\\&quot;\\u003eOpenStreetMap\\u003c/a\\u003e contributors&quot;, &quot;detectRetina&quot;: false, &quot;maxNativeZoom&quot;: 19, &quot;maxZoom&quot;: 19, &quot;minZoom&quot;: 0, &quot;noWrap&quot;: false, &quot;opacity&quot;: 1, &quot;subdomains&quot;: &quot;abc&quot;, &quot;tms&quot;: false}\n",
       "            );\n",
       "        \n",
       "    \n",
       "            tile_layer_16126f28576801d59ba328362d40c275.addTo(map_d71da6f2ef2a0a5e4a76aa28e9e129bb);\n",
       "        \n",
       "    \n",
       "\n",
       "        function geo_json_c1d9c35a9ac3026c264406644e249288_onEachFeature(feature, layer) {\n",
       "            layer.on({\n",
       "            });\n",
       "        };\n",
       "        var geo_json_c1d9c35a9ac3026c264406644e249288 = L.geoJson(null, {\n",
       "                onEachFeature: geo_json_c1d9c35a9ac3026c264406644e249288_onEachFeature,\n",
       "            \n",
       "        });\n",
       "\n",
       "        function geo_json_c1d9c35a9ac3026c264406644e249288_add (data) {\n",
       "            geo_json_c1d9c35a9ac3026c264406644e249288\n",
       "                .addData(data);\n",
       "        }\n",
       "            geo_json_c1d9c35a9ac3026c264406644e249288_add({&quot;crs&quot;: {&quot;properties&quot;: {&quot;name&quot;: &quot;urn:ogc:def:crs:OGC:1.3:CRS84&quot;}, &quot;type&quot;: &quot;name&quot;}, &quot;features&quot;: [{&quot;geometry&quot;: {&quot;coordinates&quot;: [[[141.88918934356815, 42.947490866451446], [142.12772659128083, 42.800748440351775], [142.1219086096293, 42.582250907216576], [142.11609062797777, 42.54863590211885], [142.04756773297086, 42.580311579999396], [142.00425609178725, 42.5777258103765], [141.9570657961693, 42.59000821608528], [141.81226269728683, 42.718003812418914], [141.774122595349, 42.82595969417506], [141.81808067893834, 42.91387586135372], [141.88918934356815, 42.947490866451446]]], &quot;type&quot;: &quot;Polygon&quot;}, &quot;properties&quot;: {}, &quot;type&quot;: &quot;Feature&quot;}], &quot;name&quot;: &quot;aoi&quot;, &quot;type&quot;: &quot;FeatureCollection&quot;});\n",
       "        geo_json_c1d9c35a9ac3026c264406644e249288.setStyle(function(feature) {return feature.properties.style;});\n",
       "\n",
       "        \n",
       "    \n",
       "            geo_json_c1d9c35a9ac3026c264406644e249288.addTo(map_d71da6f2ef2a0a5e4a76aa28e9e129bb);\n",
       "        \n",
       "    \n",
       "            var tile_layer_ac1bff745d282f5248b73e5242ed2177 = L.tileLayer(\n",
       "                &quot;https://server.arcgisonline.com/ArcGIS/rest/services/World_Imagery/MapServer/tile/{z}/{y}/{x}&quot;,\n",
       "                {&quot;attribution&quot;: &quot;Esri&quot;, &quot;detectRetina&quot;: false, &quot;maxZoom&quot;: 18, &quot;minZoom&quot;: 0, &quot;noWrap&quot;: false, &quot;opacity&quot;: 1, &quot;subdomains&quot;: &quot;abc&quot;, &quot;tms&quot;: false}\n",
       "            );\n",
       "        \n",
       "    \n",
       "            tile_layer_ac1bff745d282f5248b73e5242ed2177.addTo(map_d71da6f2ef2a0a5e4a76aa28e9e129bb);\n",
       "        \n",
       "&lt;/script&gt;\n",
       "&lt;/html&gt;\" style=\"position:absolute;width:100%;height:100%;left:0;top:0;border:none !important;\" allowfullscreen webkitallowfullscreen mozallowfullscreen></iframe></div></div>"
      ],
      "text/plain": [
       "<folium.folium.Map at 0x139a64750>"
      ]
     },
     "execution_count": 4,
     "metadata": {},
     "output_type": "execute_result"
    }
   ],
   "source": [
    "m = folium.Map([42.75, 141.96], zoom_start=11)\n",
    "folium.GeoJson(aoi).add_to(m)\n",
    "\n",
    "tile = folium.TileLayer(\n",
    "      tiles = 'https://server.arcgisonline.com/ArcGIS/rest/services/World_Imagery/MapServer/tile/{z}/{y}/{x}',\n",
    "      attr = 'Esri',\n",
    "      name = 'Esri Satellite',\n",
    "      overlay = False,\n",
    "      control = True\n",
    "      ).add_to(m)\n",
    "m"
   ]
  },
  {
   "cell_type": "code",
   "execution_count": 6,
   "metadata": {},
   "outputs": [],
   "source": [
    "# define a function to identify cloud-free pixels in the available data-cube\n",
    "\n",
    "def getBAP(scl, data, reducer=\"first\"):\n",
    "    mask = (scl == 3) | (scl == 8) | (scl == 9) | (scl == 10)\n",
    "\n",
    "    # mask is a bit noisy, so we apply smoothening\n",
    "    # 2D gaussian kernel\n",
    "    g = scipy.signal.windows.gaussian(11, std=1.6)\n",
    "    kernel = np.outer(g, g)\n",
    "    kernel = kernel / kernel.sum()\n",
    "\n",
    "    # Morphological dilation of mask: convolution + threshold\n",
    "    mask = mask.apply_kernel(kernel)\n",
    "    mask = mask > 0.1\n",
    "\n",
    "    data_masked = data.mask(mask)\n",
    "\n",
    "    # now select Best Available Pixel based on the mask\n",
    "    return data_masked.reduce_dimension(reducer=reducer, dimension=\"t\")"
   ]
  },
  {
   "cell_type": "code",
   "execution_count": 7,
   "metadata": {},
   "outputs": [],
   "source": [
    "# load S2 pre-collection\n",
    "s2pre = connection.load_collection(\n",
    "    \"SENTINEL2_L2A\",\n",
    "    temporal_extent=pre_date,\n",
    "    spatial_extent=aoi,\n",
    "    bands=[\"B04\", \"B08\", \"B12\"],\n",
    "    max_cloud_cover=90,\n",
    ")\n",
    "\n",
    "s2pre_scl = connection.load_collection(\n",
    "    \"SENTINEL2_L2A\",\n",
    "    temporal_extent=pre_date,\n",
    "    spatial_extent=aoi,\n",
    "    bands=[\"SCL\"],\n",
    "    max_cloud_cover=90,\n",
    ")\n",
    "\n",
    "# calculate ndvi\n",
    "ndvi_pre = s2pre.ndvi()"
   ]
  },
  {
   "cell_type": "code",
   "execution_count": 8,
   "metadata": {},
   "outputs": [],
   "source": [
    "# Create a Pre-event cloud free mosiac\n",
    "ndvi_pre = getBAP(s2pre_scl, ndvi_pre, reducer=\"median\")"
   ]
  },
  {
   "cell_type": "markdown",
   "metadata": {},
   "source": [
    "## Post Event Mode (For Scientific Purpose)"
   ]
  },
  {
   "cell_type": "code",
   "execution_count": 9,
   "metadata": {},
   "outputs": [],
   "source": [
    "# load S2 post collection\n",
    "s2post = connection.load_collection(\n",
    "    \"SENTINEL2_L2A\",\n",
    "    temporal_extent=post_date,\n",
    "    spatial_extent=aoi,\n",
    "    bands=[\"B04\", \"B08\", \"B12\"],\n",
    "    max_cloud_cover=90,\n",
    ")\n",
    "\n",
    "s2post_scl = connection.load_collection(\n",
    "    \"SENTINEL2_L2A\",\n",
    "    temporal_extent=post_date,\n",
    "    spatial_extent=aoi,\n",
    "    bands=[\"SCL\"],\n",
    "    max_cloud_cover=90,\n",
    ")\n",
    "\n",
    "# calculate post ndvi mosaic\n",
    "ndvi_post = s2post.ndvi()\n",
    "ndvi_post = getBAP(s2post_scl, ndvi_post, reducer=\"median\")"
   ]
  },
  {
   "cell_type": "code",
   "execution_count": null,
   "metadata": {},
   "outputs": [],
   "source": [
    "\n",
    "# ndvi_post.download(\"Result/NDVIDiff_post.tiff\"\n",
    "# )\n",
    "\n",
    "# ndvi_pre.download(\"Result/NDVIDiff_pre.tiff\"\n",
    "# )\n"
   ]
  },
  {
   "cell_type": "code",
   "execution_count": 10,
   "metadata": {},
   "outputs": [
    {
     "name": "stdout",
     "output_type": "stream",
     "text": [
      "0:00:00 Job 'j-2411264dc30a42b3a56a460d37023118': send 'start'\n",
      "0:00:14 Job 'j-2411264dc30a42b3a56a460d37023118': created (progress 0%)\n",
      "0:00:19 Job 'j-2411264dc30a42b3a56a460d37023118': created (progress 0%)\n",
      "0:00:26 Job 'j-2411264dc30a42b3a56a460d37023118': created (progress 0%)\n",
      "0:00:33 Job 'j-2411264dc30a42b3a56a460d37023118': created (progress 0%)\n",
      "0:00:44 Job 'j-2411264dc30a42b3a56a460d37023118': created (progress 0%)\n",
      "0:00:56 Job 'j-2411264dc30a42b3a56a460d37023118': running (progress N/A)\n",
      "0:01:12 Job 'j-2411264dc30a42b3a56a460d37023118': running (progress N/A)\n",
      "0:01:31 Job 'j-2411264dc30a42b3a56a460d37023118': running (progress N/A)\n",
      "0:01:55 Job 'j-2411264dc30a42b3a56a460d37023118': running (progress N/A)\n",
      "0:02:25 Job 'j-2411264dc30a42b3a56a460d37023118': running (progress N/A)\n",
      "0:03:03 Job 'j-2411264dc30a42b3a56a460d37023118': running (progress N/A)\n",
      "0:03:50 Job 'j-2411264dc30a42b3a56a460d37023118': running (progress N/A)\n",
      "0:04:49 Job 'j-2411264dc30a42b3a56a460d37023118': running (progress N/A)\n",
      "0:05:50 Job 'j-2411264dc30a42b3a56a460d37023118': running (progress N/A)\n",
      "0:06:50 Job 'j-2411264dc30a42b3a56a460d37023118': running (progress N/A)\n",
      "0:07:51 Job 'j-2411264dc30a42b3a56a460d37023118': running (progress N/A)\n",
      "0:08:51 Job 'j-2411264dc30a42b3a56a460d37023118': running (progress N/A)\n",
      "0:09:52 Job 'j-2411264dc30a42b3a56a460d37023118': finished (progress 100%)\n"
     ]
    },
    {
     "data": {
      "text/html": [
       "\n",
       "    <script>\n",
       "    if (!window.customElements || !window.customElements.get('openeo-job')) {\n",
       "        var el = document.createElement('script');\n",
       "        el.src = \"https://cdn.jsdelivr.net/npm/@openeo/vue-components@2/assets/openeo.min.js\";\n",
       "        document.head.appendChild(el);\n",
       "\n",
       "        var font = document.createElement('font');\n",
       "        font.as = \"font\";\n",
       "        font.type = \"font/woff2\";\n",
       "        font.crossOrigin = true;\n",
       "        font.href = \"https://use.fontawesome.com/releases/v5.13.0/webfonts/fa-solid-900.woff2\"\n",
       "        document.head.appendChild(font);\n",
       "    }\n",
       "    </script>\n",
       "    <openeo-job>\n",
       "        <script type=\"application/json\">{\"currency\": \"credits\", \"job\": {\"costs\": 11, \"created\": \"2024-11-26T07:05:17Z\", \"id\": \"j-2411264dc30a42b3a56a460d37023118\", \"process\": {\"process_graph\": {\"apply1\": {\"arguments\": {\"data\": {\"from_node\": \"loadcollection2\"}, \"process\": {\"process_graph\": {\"eq1\": {\"arguments\": {\"x\": {\"from_parameter\": \"x\"}, \"y\": 3}, \"process_id\": \"eq\", \"result\": true}}}}, \"process_id\": \"apply\"}, \"apply10\": {\"arguments\": {\"data\": {\"from_node\": \"applykernel2\"}, \"process\": {\"process_graph\": {\"gt2\": {\"arguments\": {\"x\": {\"from_parameter\": \"x\"}, \"y\": 0.1}, \"process_id\": \"gt\", \"result\": true}}}}, \"process_id\": \"apply\"}, \"apply2\": {\"arguments\": {\"data\": {\"from_node\": \"loadcollection2\"}, \"process\": {\"process_graph\": {\"eq2\": {\"arguments\": {\"x\": {\"from_parameter\": \"x\"}, \"y\": 8}, \"process_id\": \"eq\", \"result\": true}}}}, \"process_id\": \"apply\"}, \"apply3\": {\"arguments\": {\"data\": {\"from_node\": \"loadcollection2\"}, \"process\": {\"process_graph\": {\"eq3\": {\"arguments\": {\"x\": {\"from_parameter\": \"x\"}, \"y\": 9}, \"process_id\": \"eq\", \"result\": true}}}}, \"process_id\": \"apply\"}, \"apply4\": {\"arguments\": {\"data\": {\"from_node\": \"loadcollection2\"}, \"process\": {\"process_graph\": {\"eq4\": {\"arguments\": {\"x\": {\"from_parameter\": \"x\"}, \"y\": 10}, \"process_id\": \"eq\", \"result\": true}}}}, \"process_id\": \"apply\"}, \"apply5\": {\"arguments\": {\"data\": {\"from_node\": \"applykernel1\"}, \"process\": {\"process_graph\": {\"gt1\": {\"arguments\": {\"x\": {\"from_parameter\": \"x\"}, \"y\": 0.1}, \"process_id\": \"gt\", \"result\": true}}}}, \"process_id\": \"apply\"}, \"apply6\": {\"arguments\": {\"data\": {\"from_node\": \"loadcollection4\"}, \"process\": {\"process_graph\": {\"eq5\": {\"arguments\": {\"x\": {\"from_parameter\": \"x\"}, \"y\": 3}, \"process_id\": \"eq\", \"result\": true}}}}, \"process_id\": \"apply\"}, \"apply7\": {\"arguments\": {\"data\": {\"from_node\": \"loadcollection4\"}, \"process\": {\"process_graph\": {\"eq6\": {\"arguments\": {\"x\": {\"from_parameter\": \"x\"}, \"y\": 8}, \"process_id\": \"eq\", \"result\": true}}}}, \"process_id\": \"apply\"}, \"apply8\": {\"arguments\": {\"data\": {\"from_node\": \"loadcollection4\"}, \"process\": {\"process_graph\": {\"eq7\": {\"arguments\": {\"x\": {\"from_parameter\": \"x\"}, \"y\": 9}, \"process_id\": \"eq\", \"result\": true}}}}, \"process_id\": \"apply\"}, \"apply9\": {\"arguments\": {\"data\": {\"from_node\": \"loadcollection4\"}, \"process\": {\"process_graph\": {\"eq8\": {\"arguments\": {\"x\": {\"from_parameter\": \"x\"}, \"y\": 10}, \"process_id\": \"eq\", \"result\": true}}}}, \"process_id\": \"apply\"}, \"applykernel1\": {\"arguments\": {\"border\": 0, \"data\": {\"from_node\": \"mergecubes3\"}, \"factor\": 1, \"kernel\": [[3.5713954074985053e-06, 2.0713152601434825e-05, 8.128458481216907e-05, 0.00021583600643790027, 0.0003877870659458747, 0.0004714291802648667, 0.0003877870659458747, 0.00021583600643790027, 8.128458481216907e-05, 2.0713152601434825e-05, 3.5713954074985053e-06], [2.0713152601434825e-05, 0.00012013082891620589, 0.00047142918026486666, 0.001251791982720796, 0.002249062833237385, 0.002734165063631252, 0.002249062833237385, 0.001251791982720796, 0.00047142918026486666, 0.00012013082891620589, 2.0713152601434825e-05], [8.128458481216907e-05, 0.00047142918026486666, 0.0018500286230458429, 0.004912404863932368, 0.008825992939554635, 0.01072967868685566, 0.008825992939554635, 0.004912404863932368, 0.0018500286230458429, 0.00047142918026486666, 8.128458481216907e-05], [0.00021583600643790027, 0.001251791982720796, 0.004912404863932368, 0.013043971994042173, 0.023435772887621185, 0.028490654205643125, 0.023435772887621185, 0.013043971994042173, 0.004912404863932368, 0.001251791982720796, 0.00021583600643790027], [0.0003877870659458747, 0.002249062833237385, 0.008825992939554635, 0.023435772887621185, 0.04210645738054507, 0.05118843414323286, 0.04210645738054507, 0.023435772887621185, 0.008825992939554635, 0.002249062833237385, 0.0003877870659458747], [0.0004714291802648667, 0.002734165063631252, 0.01072967868685566, 0.028490654205643125, 0.05118843414323286, 0.0622293100166331, 0.05118843414323286, 0.028490654205643125, 0.01072967868685566, 0.002734165063631252, 0.0004714291802648667], [0.0003877870659458747, 0.002249062833237385, 0.008825992939554635, 0.023435772887621185, 0.04210645738054507, 0.05118843414323286, 0.04210645738054507, 0.023435772887621185, 0.008825992939554635, 0.002249062833237385, 0.0003877870659458747], [0.00021583600643790027, 0.001251791982720796, 0.004912404863932368, 0.013043971994042173, 0.023435772887621185, 0.028490654205643125, 0.023435772887621185, 0.013043971994042173, 0.004912404863932368, 0.001251791982720796, 0.00021583600643790027], [8.128458481216907e-05, 0.00047142918026486666, 0.0018500286230458429, 0.004912404863932368, 0.008825992939554635, 0.01072967868685566, 0.008825992939554635, 0.004912404863932368, 0.0018500286230458429, 0.00047142918026486666, 8.128458481216907e-05], [2.0713152601434825e-05, 0.00012013082891620589, 0.00047142918026486666, 0.001251791982720796, 0.002249062833237385, 0.002734165063631252, 0.002249062833237385, 0.001251791982720796, 0.00047142918026486666, 0.00012013082891620589, 2.0713152601434825e-05], [3.5713954074985053e-06, 2.0713152601434825e-05, 8.128458481216907e-05, 0.00021583600643790027, 0.0003877870659458747, 0.0004714291802648667, 0.0003877870659458747, 0.00021583600643790027, 8.128458481216907e-05, 2.0713152601434825e-05, 3.5713954074985053e-06]], \"replace_invalid\": 0}, \"process_id\": \"apply_kernel\"}, \"applykernel2\": {\"arguments\": {\"border\": 0, \"data\": {\"from_node\": \"mergecubes6\"}, \"factor\": 1, \"kernel\": [[3.5713954074985053e-06, 2.0713152601434825e-05, 8.128458481216907e-05, 0.00021583600643790027, 0.0003877870659458747, 0.0004714291802648667, 0.0003877870659458747, 0.00021583600643790027, 8.128458481216907e-05, 2.0713152601434825e-05, 3.5713954074985053e-06], [2.0713152601434825e-05, 0.00012013082891620589, 0.00047142918026486666, 0.001251791982720796, 0.002249062833237385, 0.002734165063631252, 0.002249062833237385, 0.001251791982720796, 0.00047142918026486666, 0.00012013082891620589, 2.0713152601434825e-05], [8.128458481216907e-05, 0.00047142918026486666, 0.0018500286230458429, 0.004912404863932368, 0.008825992939554635, 0.01072967868685566, 0.008825992939554635, 0.004912404863932368, 0.0018500286230458429, 0.00047142918026486666, 8.128458481216907e-05], [0.00021583600643790027, 0.001251791982720796, 0.004912404863932368, 0.013043971994042173, 0.023435772887621185, 0.028490654205643125, 0.023435772887621185, 0.013043971994042173, 0.004912404863932368, 0.001251791982720796, 0.00021583600643790027], [0.0003877870659458747, 0.002249062833237385, 0.008825992939554635, 0.023435772887621185, 0.04210645738054507, 0.05118843414323286, 0.04210645738054507, 0.023435772887621185, 0.008825992939554635, 0.002249062833237385, 0.0003877870659458747], [0.0004714291802648667, 0.002734165063631252, 0.01072967868685566, 0.028490654205643125, 0.05118843414323286, 0.0622293100166331, 0.05118843414323286, 0.028490654205643125, 0.01072967868685566, 0.002734165063631252, 0.0004714291802648667], [0.0003877870659458747, 0.002249062833237385, 0.008825992939554635, 0.023435772887621185, 0.04210645738054507, 0.05118843414323286, 0.04210645738054507, 0.023435772887621185, 0.008825992939554635, 0.002249062833237385, 0.0003877870659458747], [0.00021583600643790027, 0.001251791982720796, 0.004912404863932368, 0.013043971994042173, 0.023435772887621185, 0.028490654205643125, 0.023435772887621185, 0.013043971994042173, 0.004912404863932368, 0.001251791982720796, 0.00021583600643790027], [8.128458481216907e-05, 0.00047142918026486666, 0.0018500286230458429, 0.004912404863932368, 0.008825992939554635, 0.01072967868685566, 0.008825992939554635, 0.004912404863932368, 0.0018500286230458429, 0.00047142918026486666, 8.128458481216907e-05], [2.0713152601434825e-05, 0.00012013082891620589, 0.00047142918026486666, 0.001251791982720796, 0.002249062833237385, 0.002734165063631252, 0.002249062833237385, 0.001251791982720796, 0.00047142918026486666, 0.00012013082891620589, 2.0713152601434825e-05], [3.5713954074985053e-06, 2.0713152601434825e-05, 8.128458481216907e-05, 0.00021583600643790027, 0.0003877870659458747, 0.0004714291802648667, 0.0003877870659458747, 0.00021583600643790027, 8.128458481216907e-05, 2.0713152601434825e-05, 3.5713954074985053e-06]], \"replace_invalid\": 0}, \"process_id\": \"apply_kernel\"}, \"loadcollection1\": {\"arguments\": {\"bands\": [\"B04\", \"B08\", \"B12\"], \"id\": \"SENTINEL2_L2A\", \"properties\": {\"eo:cloud_cover\": {\"process_graph\": {\"lte1\": {\"arguments\": {\"x\": {\"from_parameter\": \"value\"}, \"y\": 90}, \"process_id\": \"lte\", \"result\": true}}}}, \"spatial_extent\": {\"crs\": {\"properties\": {\"name\": \"urn:ogc:def:crs:OGC:1.3:CRS84\"}, \"type\": \"name\"}, \"features\": [{\"geometry\": {\"coordinates\": [[[141.88918934356815, 42.947490866451446], [142.12772659128083, 42.800748440351775], [142.1219086096293, 42.582250907216576], [142.11609062797777, 42.54863590211885], [142.04756773297086, 42.580311579999396], [142.00425609178725, 42.5777258103765], [141.9570657961693, 42.59000821608528], [141.81226269728683, 42.718003812418914], [141.774122595349, 42.82595969417506], [141.81808067893834, 42.91387586135372], [141.88918934356815, 42.947490866451446]]], \"type\": \"Polygon\"}, \"properties\": {}, \"type\": \"Feature\"}], \"name\": \"aoi\", \"type\": \"FeatureCollection\"}, \"temporal_extent\": [\"2018-03-03\", \"2018-09-03\"]}, \"process_id\": \"load_collection\"}, \"loadcollection2\": {\"arguments\": {\"bands\": [\"SCL\"], \"id\": \"SENTINEL2_L2A\", \"properties\": {\"eo:cloud_cover\": {\"process_graph\": {\"lte2\": {\"arguments\": {\"x\": {\"from_parameter\": \"value\"}, \"y\": 90}, \"process_id\": \"lte\", \"result\": true}}}}, \"spatial_extent\": {\"crs\": {\"properties\": {\"name\": \"urn:ogc:def:crs:OGC:1.3:CRS84\"}, \"type\": \"name\"}, \"features\": [{\"geometry\": {\"coordinates\": [[[141.88918934356815, 42.947490866451446], [142.12772659128083, 42.800748440351775], [142.1219086096293, 42.582250907216576], [142.11609062797777, 42.54863590211885], [142.04756773297086, 42.580311579999396], [142.00425609178725, 42.5777258103765], [141.9570657961693, 42.59000821608528], [141.81226269728683, 42.718003812418914], [141.774122595349, 42.82595969417506], [141.81808067893834, 42.91387586135372], [141.88918934356815, 42.947490866451446]]], \"type\": \"Polygon\"}, \"properties\": {}, \"type\": \"Feature\"}], \"name\": \"aoi\", \"type\": \"FeatureCollection\"}, \"temporal_extent\": [\"2018-03-03\", \"2018-09-03\"]}, \"process_id\": \"load_collection\"}, \"loadcollection3\": {\"arguments\": {\"bands\": [\"B04\", \"B08\", \"B12\"], \"id\": \"SENTINEL2_L2A\", \"properties\": {\"eo:cloud_cover\": {\"process_graph\": {\"lte3\": {\"arguments\": {\"x\": {\"from_parameter\": \"value\"}, \"y\": 90}, \"process_id\": \"lte\", \"result\": true}}}}, \"spatial_extent\": {\"crs\": {\"properties\": {\"name\": \"urn:ogc:def:crs:OGC:1.3:CRS84\"}, \"type\": \"name\"}, \"features\": [{\"geometry\": {\"coordinates\": [[[141.88918934356815, 42.947490866451446], [142.12772659128083, 42.800748440351775], [142.1219086096293, 42.582250907216576], [142.11609062797777, 42.54863590211885], [142.04756773297086, 42.580311579999396], [142.00425609178725, 42.5777258103765], [141.9570657961693, 42.59000821608528], [141.81226269728683, 42.718003812418914], [141.774122595349, 42.82595969417506], [141.81808067893834, 42.91387586135372], [141.88918934356815, 42.947490866451446]]], \"type\": \"Polygon\"}, \"properties\": {}, \"type\": \"Feature\"}], \"name\": \"aoi\", \"type\": \"FeatureCollection\"}, \"temporal_extent\": [\"2018-09-09\", \"2018-12-09\"]}, \"process_id\": \"load_collection\"}, \"loadcollection4\": {\"arguments\": {\"bands\": [\"SCL\"], \"id\": \"SENTINEL2_L2A\", \"properties\": {\"eo:cloud_cover\": {\"process_graph\": {\"lte4\": {\"arguments\": {\"x\": {\"from_parameter\": \"value\"}, \"y\": 90}, \"process_id\": \"lte\", \"result\": true}}}}, \"spatial_extent\": {\"crs\": {\"properties\": {\"name\": \"urn:ogc:def:crs:OGC:1.3:CRS84\"}, \"type\": \"name\"}, \"features\": [{\"geometry\": {\"coordinates\": [[[141.88918934356815, 42.947490866451446], [142.12772659128083, 42.800748440351775], [142.1219086096293, 42.582250907216576], [142.11609062797777, 42.54863590211885], [142.04756773297086, 42.580311579999396], [142.00425609178725, 42.5777258103765], [141.9570657961693, 42.59000821608528], [141.81226269728683, 42.718003812418914], [141.774122595349, 42.82595969417506], [141.81808067893834, 42.91387586135372], [141.88918934356815, 42.947490866451446]]], \"type\": \"Polygon\"}, \"properties\": {}, \"type\": \"Feature\"}], \"name\": \"aoi\", \"type\": \"FeatureCollection\"}, \"temporal_extent\": [\"2018-09-09\", \"2018-12-09\"]}, \"process_id\": \"load_collection\"}, \"mask1\": {\"arguments\": {\"data\": {\"from_node\": \"ndvi1\"}, \"mask\": {\"from_node\": \"apply5\"}}, \"process_id\": \"mask\"}, \"mask2\": {\"arguments\": {\"data\": {\"from_node\": \"ndvi2\"}, \"mask\": {\"from_node\": \"apply10\"}}, \"process_id\": \"mask\"}, \"mergecubes1\": {\"arguments\": {\"cube1\": {\"from_node\": \"apply1\"}, \"cube2\": {\"from_node\": \"apply2\"}, \"overlap_resolver\": {\"process_graph\": {\"or1\": {\"arguments\": {\"x\": {\"from_parameter\": \"x\"}, \"y\": {\"from_parameter\": \"y\"}}, \"process_id\": \"or\", \"result\": true}}}}, \"process_id\": \"merge_cubes\"}, \"mergecubes2\": {\"arguments\": {\"cube1\": {\"from_node\": \"mergecubes1\"}, \"cube2\": {\"from_node\": \"apply3\"}, \"overlap_resolver\": {\"process_graph\": {\"or2\": {\"arguments\": {\"x\": {\"from_parameter\": \"x\"}, \"y\": {\"from_parameter\": \"y\"}}, \"process_id\": \"or\", \"result\": true}}}}, \"process_id\": \"merge_cubes\"}, \"mergecubes3\": {\"arguments\": {\"cube1\": {\"from_node\": \"mergecubes2\"}, \"cube2\": {\"from_node\": \"apply4\"}, \"overlap_resolver\": {\"process_graph\": {\"or3\": {\"arguments\": {\"x\": {\"from_parameter\": \"x\"}, \"y\": {\"from_parameter\": \"y\"}}, \"process_id\": \"or\", \"result\": true}}}}, \"process_id\": \"merge_cubes\"}, \"mergecubes4\": {\"arguments\": {\"cube1\": {\"from_node\": \"apply6\"}, \"cube2\": {\"from_node\": \"apply7\"}, \"overlap_resolver\": {\"process_graph\": {\"or4\": {\"arguments\": {\"x\": {\"from_parameter\": \"x\"}, \"y\": {\"from_parameter\": \"y\"}}, \"process_id\": \"or\", \"result\": true}}}}, \"process_id\": \"merge_cubes\"}, \"mergecubes5\": {\"arguments\": {\"cube1\": {\"from_node\": \"mergecubes4\"}, \"cube2\": {\"from_node\": \"apply8\"}, \"overlap_resolver\": {\"process_graph\": {\"or5\": {\"arguments\": {\"x\": {\"from_parameter\": \"x\"}, \"y\": {\"from_parameter\": \"y\"}}, \"process_id\": \"or\", \"result\": true}}}}, \"process_id\": \"merge_cubes\"}, \"mergecubes6\": {\"arguments\": {\"cube1\": {\"from_node\": \"mergecubes5\"}, \"cube2\": {\"from_node\": \"apply9\"}, \"overlap_resolver\": {\"process_graph\": {\"or6\": {\"arguments\": {\"x\": {\"from_parameter\": \"x\"}, \"y\": {\"from_parameter\": \"y\"}}, \"process_id\": \"or\", \"result\": true}}}}, \"process_id\": \"merge_cubes\"}, \"mergecubes7\": {\"arguments\": {\"cube1\": {\"from_node\": \"reducedimension1\"}, \"cube2\": {\"from_node\": \"reducedimension2\"}, \"overlap_resolver\": {\"process_graph\": {\"subtract1\": {\"arguments\": {\"x\": {\"from_parameter\": \"x\"}, \"y\": {\"from_parameter\": \"y\"}}, \"process_id\": \"subtract\", \"result\": true}}}}, \"process_id\": \"merge_cubes\"}, \"mergecubes8\": {\"arguments\": {\"cube1\": {\"from_node\": \"mergecubes7\"}, \"cube2\": {\"from_node\": \"reducedimension1\"}, \"overlap_resolver\": {\"process_graph\": {\"divide1\": {\"arguments\": {\"x\": {\"from_parameter\": \"x\"}, \"y\": {\"from_parameter\": \"y\"}}, \"process_id\": \"divide\", \"result\": true}}}}, \"process_id\": \"merge_cubes\"}, \"ndvi1\": {\"arguments\": {\"data\": {\"from_node\": \"loadcollection1\"}}, \"process_id\": \"ndvi\"}, \"ndvi2\": {\"arguments\": {\"data\": {\"from_node\": \"loadcollection3\"}}, \"process_id\": \"ndvi\"}, \"reducedimension1\": {\"arguments\": {\"data\": {\"from_node\": \"mask1\"}, \"dimension\": \"t\", \"reducer\": {\"process_graph\": {\"median1\": {\"arguments\": {\"data\": {\"from_parameter\": \"data\"}}, \"process_id\": \"median\", \"result\": true}}}}, \"process_id\": \"reduce_dimension\"}, \"reducedimension2\": {\"arguments\": {\"data\": {\"from_node\": \"mask2\"}, \"dimension\": \"t\", \"reducer\": {\"process_graph\": {\"median2\": {\"arguments\": {\"data\": {\"from_parameter\": \"data\"}}, \"process_id\": \"median\", \"result\": true}}}}, \"process_id\": \"reduce_dimension\"}, \"saveresult1\": {\"arguments\": {\"data\": {\"from_node\": \"mergecubes8\"}, \"format\": \"GTiff\", \"options\": {}}, \"process_id\": \"save_result\", \"result\": true}}}, \"progress\": 100, \"status\": \"finished\", \"title\": \"Landslides in Japan Mosiac\", \"updated\": \"2024-11-26T07:14:10Z\", \"usage\": {\"cpu\": {\"unit\": \"cpu-seconds\", \"value\": 4082.767478468}, \"duration\": {\"unit\": \"seconds\", \"value\": 488}, \"input_pixel\": {\"unit\": \"mega-pixel\", \"value\": 1482.1875}, \"max_executor_memory\": {\"unit\": \"gb\", \"value\": 2.302234649658203}, \"memory\": {\"unit\": \"mb-seconds\", \"value\": 17240980.12332589}, \"network_received\": {\"unit\": \"b\", \"value\": 38775615890}}}}</script>\n",
       "    </openeo-job>\n",
       "    "
      ],
      "text/plain": [
       "<BatchJob job_id='j-2411264dc30a42b3a56a460d37023118'>"
      ]
     },
     "execution_count": 10,
     "metadata": {},
     "output_type": "execute_result"
    }
   ],
   "source": [
    "# calculate difference in NDVI\n",
    "diff = (ndvi_pre - ndvi_post)/ndvi_pre\n",
    "# lets execute the process\n",
    "diff.execute_batch(\n",
    "    title=\"Landslides in Japan Mosiac\",\n",
    "    outputfile=\"Result/NDVIDiff.tiff\"\n",
    ")"
   ]
  },
  {
   "cell_type": "markdown",
   "metadata": {},
   "source": [
    "# Now you can also download the DEM (Separately) to do some post processing"
   ]
  },
  {
   "cell_type": "code",
   "execution_count": 16,
   "metadata": {},
   "outputs": [],
   "source": [
    "dem = connection.load_collection(\n",
    "    \"COPERNICUS_30\",\n",
    "    spatial_extent=aoi,\n",
    "    bands=[\"DEM\"],\n",
    ")"
   ]
  },
  {
   "cell_type": "code",
   "execution_count": 17,
   "metadata": {},
   "outputs": [],
   "source": [
    "dem.download(\"Result/DEM.tiff\")"
   ]
  }
 ],
 "metadata": {
  "kernelspec": {
   "display_name": "PInSAR",
   "language": "python",
   "name": "python3"
  },
  "language_info": {
   "codemirror_mode": {
    "name": "ipython",
    "version": 3
   },
   "file_extension": ".py",
   "mimetype": "text/x-python",
   "name": "python",
   "nbconvert_exporter": "python",
   "pygments_lexer": "ipython3",
   "version": "3.11.10"
  }
 },
 "nbformat": 4,
 "nbformat_minor": 2
}
